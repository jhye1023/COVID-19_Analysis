{
 "cells": [
  {
   "cell_type": "code",
   "execution_count": 1,
   "metadata": {},
   "outputs": [],
   "source": [
    "import numpy as np\n",
    "import matplotlib.pyplot as plt\n",
    "import matplotlib.colors as mcolors\n",
    "import pandas as pd\n",
    "import random\n",
    "import math\n",
    "import time\n",
    "from sklearn.linear_model import LinearRegression,BayesianRidge\n",
    "from sklearn.model_selection import RandomizedSearchCV,train_test_split\n",
    "from sklearn.svm import SVR\n",
    "from sklearn.metrics import mean_squared_error,mean_absolute_error\n",
    "import datetime\n",
    "import operator\n",
    "plt.style.use('seaborn')\n",
    "%matplotlib inline"
   ]
  },
  {
   "cell_type": "code",
   "execution_count": 13,
   "metadata": {},
   "outputs": [
    {
     "name": "stderr",
     "output_type": "stream",
     "text": [
      "/Users/jihyechoi/opt/anaconda3/lib/python3.7/site-packages/IPython/core/interactiveshell.py:3058: DtypeWarning: Columns (3) have mixed types.Specify dtype option on import or set low_memory=False.\n",
      "  interactivity=interactivity, compiler=compiler, result=result)\n"
     ]
    }
   ],
   "source": [
    "confirmed_df = pd.read_csv('https://raw.githubusercontent.com/CSSEGISandData/COVID-19/master/csse_covid_19_data/csse_covid_19_time_series/time_series_covid19_confirmed_global.csv')\n",
    "death_df = pd.read_csv('https://raw.githubusercontent.com/CSSEGISandData/COVID-19/master/csse_covid_19_data/csse_covid_19_time_series/time_series_covid19_deaths_global.csv')\n",
    "recovered_df = pd.read_csv('https://raw.githubusercontent.com/CSSEGISandData/COVID-19/master/csse_covid_19_data/csse_covid_19_time_series/time_series_covid19_recovered_global.csv')\n",
    "latest_data = pd.read_csv('https://raw.githubusercontent.com/CSSEGISandData/COVID-19/master/csse_covid_19_data/csse_covid_19_daily_reports/10-09-2020.csv')\n",
    "us_medical_data = pd.read_csv('https://raw.githubusercontent.com/CSSEGISandData/COVID-19/master/csse_covid_19_data/csse_covid_19_daily_reports_us/10-09-2020.csv')\n",
    "apple_mobility = pd.read_csv('https://covid19-static.cdn-apple.com/covid19-mobility-data/2018HotfixDev22/v3/en-us/applemobilitytrends-2020-10-09.csv')\n"
   ]
  },
  {
   "cell_type": "code",
   "execution_count": 14,
   "metadata": {
    "scrolled": true
   },
   "outputs": [
    {
     "data": {
      "text/html": [
       "<div>\n",
       "<style scoped>\n",
       "    .dataframe tbody tr th:only-of-type {\n",
       "        vertical-align: middle;\n",
       "    }\n",
       "\n",
       "    .dataframe tbody tr th {\n",
       "        vertical-align: top;\n",
       "    }\n",
       "\n",
       "    .dataframe thead th {\n",
       "        text-align: right;\n",
       "    }\n",
       "</style>\n",
       "<table border=\"1\" class=\"dataframe\">\n",
       "  <thead>\n",
       "    <tr style=\"text-align: right;\">\n",
       "      <th></th>\n",
       "      <th>Province/State</th>\n",
       "      <th>Country/Region</th>\n",
       "      <th>Lat</th>\n",
       "      <th>Long</th>\n",
       "      <th>1/22/20</th>\n",
       "      <th>1/23/20</th>\n",
       "      <th>1/24/20</th>\n",
       "      <th>1/25/20</th>\n",
       "      <th>1/26/20</th>\n",
       "      <th>1/27/20</th>\n",
       "      <th>...</th>\n",
       "      <th>10/1/20</th>\n",
       "      <th>10/2/20</th>\n",
       "      <th>10/3/20</th>\n",
       "      <th>10/4/20</th>\n",
       "      <th>10/5/20</th>\n",
       "      <th>10/6/20</th>\n",
       "      <th>10/7/20</th>\n",
       "      <th>10/8/20</th>\n",
       "      <th>10/9/20</th>\n",
       "      <th>10/10/20</th>\n",
       "    </tr>\n",
       "  </thead>\n",
       "  <tbody>\n",
       "    <tr>\n",
       "      <th>0</th>\n",
       "      <td>NaN</td>\n",
       "      <td>Afghanistan</td>\n",
       "      <td>33.93911</td>\n",
       "      <td>67.709953</td>\n",
       "      <td>0</td>\n",
       "      <td>0</td>\n",
       "      <td>0</td>\n",
       "      <td>0</td>\n",
       "      <td>0</td>\n",
       "      <td>0</td>\n",
       "      <td>...</td>\n",
       "      <td>39285</td>\n",
       "      <td>39290</td>\n",
       "      <td>39297</td>\n",
       "      <td>39341</td>\n",
       "      <td>39422</td>\n",
       "      <td>39486</td>\n",
       "      <td>39548</td>\n",
       "      <td>39616</td>\n",
       "      <td>39693</td>\n",
       "      <td>39703</td>\n",
       "    </tr>\n",
       "    <tr>\n",
       "      <th>1</th>\n",
       "      <td>NaN</td>\n",
       "      <td>Albania</td>\n",
       "      <td>41.15330</td>\n",
       "      <td>20.168300</td>\n",
       "      <td>0</td>\n",
       "      <td>0</td>\n",
       "      <td>0</td>\n",
       "      <td>0</td>\n",
       "      <td>0</td>\n",
       "      <td>0</td>\n",
       "      <td>...</td>\n",
       "      <td>13806</td>\n",
       "      <td>13965</td>\n",
       "      <td>14117</td>\n",
       "      <td>14266</td>\n",
       "      <td>14410</td>\n",
       "      <td>14568</td>\n",
       "      <td>14730</td>\n",
       "      <td>14899</td>\n",
       "      <td>15066</td>\n",
       "      <td>15231</td>\n",
       "    </tr>\n",
       "    <tr>\n",
       "      <th>2</th>\n",
       "      <td>NaN</td>\n",
       "      <td>Algeria</td>\n",
       "      <td>28.03390</td>\n",
       "      <td>1.659600</td>\n",
       "      <td>0</td>\n",
       "      <td>0</td>\n",
       "      <td>0</td>\n",
       "      <td>0</td>\n",
       "      <td>0</td>\n",
       "      <td>0</td>\n",
       "      <td>...</td>\n",
       "      <td>51690</td>\n",
       "      <td>51847</td>\n",
       "      <td>51995</td>\n",
       "      <td>52136</td>\n",
       "      <td>52270</td>\n",
       "      <td>52399</td>\n",
       "      <td>52520</td>\n",
       "      <td>52658</td>\n",
       "      <td>52804</td>\n",
       "      <td>52940</td>\n",
       "    </tr>\n",
       "    <tr>\n",
       "      <th>3</th>\n",
       "      <td>NaN</td>\n",
       "      <td>Andorra</td>\n",
       "      <td>42.50630</td>\n",
       "      <td>1.521800</td>\n",
       "      <td>0</td>\n",
       "      <td>0</td>\n",
       "      <td>0</td>\n",
       "      <td>0</td>\n",
       "      <td>0</td>\n",
       "      <td>0</td>\n",
       "      <td>...</td>\n",
       "      <td>2050</td>\n",
       "      <td>2110</td>\n",
       "      <td>2110</td>\n",
       "      <td>2110</td>\n",
       "      <td>2370</td>\n",
       "      <td>2370</td>\n",
       "      <td>2568</td>\n",
       "      <td>2568</td>\n",
       "      <td>2696</td>\n",
       "      <td>2696</td>\n",
       "    </tr>\n",
       "    <tr>\n",
       "      <th>4</th>\n",
       "      <td>NaN</td>\n",
       "      <td>Angola</td>\n",
       "      <td>-11.20270</td>\n",
       "      <td>17.873900</td>\n",
       "      <td>0</td>\n",
       "      <td>0</td>\n",
       "      <td>0</td>\n",
       "      <td>0</td>\n",
       "      <td>0</td>\n",
       "      <td>0</td>\n",
       "      <td>...</td>\n",
       "      <td>5114</td>\n",
       "      <td>5211</td>\n",
       "      <td>5370</td>\n",
       "      <td>5402</td>\n",
       "      <td>5530</td>\n",
       "      <td>5725</td>\n",
       "      <td>5725</td>\n",
       "      <td>5958</td>\n",
       "      <td>6031</td>\n",
       "      <td>6246</td>\n",
       "    </tr>\n",
       "  </tbody>\n",
       "</table>\n",
       "<p>5 rows × 267 columns</p>\n",
       "</div>"
      ],
      "text/plain": [
       "  Province/State Country/Region       Lat       Long  1/22/20  1/23/20  \\\n",
       "0            NaN    Afghanistan  33.93911  67.709953        0        0   \n",
       "1            NaN        Albania  41.15330  20.168300        0        0   \n",
       "2            NaN        Algeria  28.03390   1.659600        0        0   \n",
       "3            NaN        Andorra  42.50630   1.521800        0        0   \n",
       "4            NaN         Angola -11.20270  17.873900        0        0   \n",
       "\n",
       "   1/24/20  1/25/20  1/26/20  1/27/20  ...  10/1/20  10/2/20  10/3/20  \\\n",
       "0        0        0        0        0  ...    39285    39290    39297   \n",
       "1        0        0        0        0  ...    13806    13965    14117   \n",
       "2        0        0        0        0  ...    51690    51847    51995   \n",
       "3        0        0        0        0  ...     2050     2110     2110   \n",
       "4        0        0        0        0  ...     5114     5211     5370   \n",
       "\n",
       "   10/4/20  10/5/20  10/6/20  10/7/20  10/8/20  10/9/20  10/10/20  \n",
       "0    39341    39422    39486    39548    39616    39693     39703  \n",
       "1    14266    14410    14568    14730    14899    15066     15231  \n",
       "2    52136    52270    52399    52520    52658    52804     52940  \n",
       "3     2110     2370     2370     2568     2568     2696      2696  \n",
       "4     5402     5530     5725     5725     5958     6031      6246  \n",
       "\n",
       "[5 rows x 267 columns]"
      ]
     },
     "execution_count": 14,
     "metadata": {},
     "output_type": "execute_result"
    }
   ],
   "source": [
    "confirmed_df.head()"
   ]
  },
  {
   "cell_type": "code",
   "execution_count": 15,
   "metadata": {},
   "outputs": [],
   "source": [
    "columns=confirmed_df.keys()"
   ]
  },
  {
   "cell_type": "code",
   "execution_count": 16,
   "metadata": {},
   "outputs": [],
   "source": [
    "confirmed=confirmed_df.loc[:,columns[4]:columns[-1]]\n",
    "deaths=death_df.loc[:,columns[4]:columns[-1]]\n",
    "recovered=recovered_df.loc[:,columns[4]:columns[-1]]"
   ]
  },
  {
   "cell_type": "code",
   "execution_count": 17,
   "metadata": {},
   "outputs": [],
   "source": [
    "dates=confirmed.keys()\n",
    "world_cases=[]\n",
    "total_deaths=[]\n",
    "mortality_rate=[]\n",
    "total_recovered=[]\n",
    "for i in dates:\n",
    "    confirmed_sum=confirmed[i].sum()\n",
    "    death_sum=deaths[i].sum()\n",
    "    recovered_sum=recovered[i].sum()\n",
    "    world_cases.append(confirmed_sum)\n",
    "    total_deaths.append(death_sum)\n",
    "    mortality_rate.append(death_sum/confirmed_sum)\n",
    "    total_recovered.append(recovered_sum)"
   ]
  },
  {
   "cell_type": "code",
   "execution_count": 18,
   "metadata": {},
   "outputs": [
    {
     "name": "stdout",
     "output_type": "stream",
     "text": [
      "[17, 18, 26, 42, 56, 82, 131, 133, 171, 213, 259, 362, 426, 492, 564, 634, 719, 806, 906, 1013, 1113, 1118, 1371, 1523, 1666, 1770, 1868, 2008, 2123, 2248, 2252, 2459, 2470, 2630, 2710, 2771, 2814, 2873, 2942, 2996, 3085, 3160, 3255, 3348, 3460, 3559, 3803, 3987, 4267, 4611, 4917, 5414, 5834, 6475, 7153, 7964, 8867, 9981, 11460, 13180, 14854, 16797, 19079, 21877, 24893, 28388, 32102, 35572, 39620, 44365, 49863, 56101, 62205, 68351, 73540, 79481, 87712, 94464, 102237, 109629, 115854, 121671, 127587, 134567, 142918, 150221, 158588, 164601, 169862, 175726, 182917, 189644, 196485, 203142, 208774, 212708, 217382, 223929, 230657, 236559, 241722, 247205, 250694, 254808, 260714, 267277, 272579, 278054, 282287, 285874, 289354, 294889, 299981, 305171, 310304, 314424, 317712, 321412, 326158, 330926, 335657, 340851, 344742, 347870, 349062, 353180, 358326, 362944, 367536, 371610, 374478, 377554, 382296, 387745, 392879, 397453, 401265, 404006, 407707, 412562, 417623, 422322, 426545, 430722, 434129, 437559, 444294, 449396, 454386, 460545, 464746, 468747, 472311, 477538, 482712, 487411, 492109, 496574, 499712, 503435, 508361, 513291, 518361, 523297, 527661, 531133, 534954, 540984, 546257, 551670, 556965, 561750, 565740, 569553, 575148, 580582, 586332, 592988, 598609, 602661, 606829, 612998, 619920, 629817, 635852, 641398, 645058, 650233, 656545, 663118, 669124, 675328, 680820, 685087, 689402, 696323, 703290, 709787, 716089, 721512, 726064, 730973, 737404, 744023, 750240, 760366, 765715, 769914, 774056, 780935, 787694, 793732, 799224, 804796, 808648, 813011, 819396, 825684, 831576, 837091, 842472, 846381, 850572, 857060, 863079, 868793, 874702, 879645, 883414, 892726, 897463, 903759, 909572, 915454, 920332, 923981, 928415, 934965, 940722, 946181, 951890, 957125, 960821, 964873, 970753, 976361, 983077, 988993, 994274, 997876, 1001797, 1007892, 1014298, 1022998, 1027966, 1033319, 1037083, 1044090, 1049875, 1055683, 1061877, 1068040, 1071388]\n"
     ]
    }
   ],
   "source": [
    "print (total_deaths)"
   ]
  },
  {
   "cell_type": "code",
   "execution_count": 19,
   "metadata": {},
   "outputs": [],
   "source": [
    "days_1_22=np.array([i for i in range(len(dates))]).reshape(-1,1)\n",
    "world_cases=np.array(world_cases).reshape(-1,1)\n",
    "total_deaths=np.array(total_deaths).reshape(-1,1)\n",
    "total_recovered=np.array(total_recovered).reshape(-1,1)"
   ]
  },
  {
   "cell_type": "code",
   "execution_count": 20,
   "metadata": {},
   "outputs": [],
   "source": [
    "days_future=30\n",
    "future_forcast=np.array([i for i in range(len(dates)+days_future)]).reshape(-1,1)\n",
    "adjust_dates=future_forcast[:-30]"
   ]
  },
  {
   "cell_type": "code",
   "execution_count": 21,
   "metadata": {},
   "outputs": [],
   "source": [
    "start='1/22/2020'\n",
    "start_date=datetime.datetime.strptime(start,'%m/%d/%Y')\n",
    "future_forcast_dates=[]\n",
    "for i in range(len(future_forcast)):\n",
    "   future_forcast_dates.append((start_date+datetime.timedelta(days=i)).strftime('%m/%d/%Y')) \n"
   ]
  },
  {
   "cell_type": "code",
   "execution_count": 22,
   "metadata": {},
   "outputs": [],
   "source": [
    "x_train_confirmed,x_test_confirrmed,y_train_confirmed,y_test_confirmed=train_test_split(days_1_22,world_cases,test_size=0.15,shuffle=False)"
   ]
  },
  {
   "cell_type": "code",
   "execution_count": null,
   "metadata": {},
   "outputs": [
    {
     "name": "stdout",
     "output_type": "stream",
     "text": [
      "Fitting 3 folds for each of 40 candidates, totalling 120 fits\n"
     ]
    },
    {
     "name": "stderr",
     "output_type": "stream",
     "text": [
      "[Parallel(n_jobs=-1)]: Using backend LokyBackend with 8 concurrent workers.\n",
      "[Parallel(n_jobs=-1)]: Done  34 tasks      | elapsed:    1.9s\n"
     ]
    }
   ],
   "source": [
    "kernel=['poly','sigmoid','rbf']\n",
    "c=[0.01,0.1,1,10]\n",
    "gamma=[0.01,0.1,1]\n",
    "epsilon=[0.01,0.1,1]\n",
    "shrinking=[True,False]\n",
    "svm_grid={'kernel':kernel,'C':c,'gamma':gamma,'epsilon':epsilon,'shrinking':shrinking}\n",
    "svm=SVR()\n",
    "svm_search=RandomizedSearchCV(svm,svm_grid,scoring='neg_mean_squared_error',cv=3,return_train_score=True,n_jobs=-1,n_iter=40,verbose=1)\n",
    "svm_search.fit(x_train_confirmed,y_train_confirmed)"
   ]
  },
  {
   "cell_type": "code",
   "execution_count": null,
   "metadata": {},
   "outputs": [],
   "source": [
    "svm_confirmed=svm_search.best_estimator_\n",
    "svm_pred=svm_confirmed.predict(future_forcast)"
   ]
  },
  {
   "cell_type": "code",
   "execution_count": null,
   "metadata": {},
   "outputs": [],
   "source": [
    "linear_model=LinearRegression(normalize=True,fit_intercept=True)\n",
    "linear_model.fit(x_train_confirmed,y_train_confirmed)\n",
    "test_linear_pred=linear_model.predict(x_test_confirrmed)\n",
    "linear_pred=linear_model.predict(future_forcast)\n",
    "plt.plot(test_linear_pred)\n",
    "plt.plot(y_test_confirmed)\n",
    "print('MAE:',mean_absolute_error(test_linear_pred,y_test_confirmed))\n",
    "print('MSE:',mean_squared_error(test_linear_pred,y_test_confirmed))"
   ]
  },
  {
   "cell_type": "code",
   "execution_count": null,
   "metadata": {},
   "outputs": [],
   "source": [
    "print(linear_model.coef_)\n",
    "print(linear_model.intercept_)"
   ]
  },
  {
   "cell_type": "code",
   "execution_count": null,
   "metadata": {},
   "outputs": [],
   "source": [
    "plt.figure(figsize=(20,12))\n",
    "plt.plot(adjust_dates,world_cases)\n",
    "plt.plot(future_forcast,linear_pred,linestyle='dashed',color='green')\n",
    "plt.title('no. of Coronavirus cases over Time',size=30)\n",
    "plt.xlabel('Day Since 1/22/2020',size=30)\n",
    "plt.ylabel('no of Cases',size=30)\n",
    "plt.legend(['Confirmed cases','Linear Regression Pred'])\n",
    "plt.xticks(size=15)\n",
    "plt.show()"
   ]
  }
 ],
 "metadata": {
  "kernelspec": {
   "display_name": "Python 3",
   "language": "python",
   "name": "python3"
  },
  "language_info": {
   "codemirror_mode": {
    "name": "ipython",
    "version": 3
   },
   "file_extension": ".py",
   "mimetype": "text/x-python",
   "name": "python",
   "nbconvert_exporter": "python",
   "pygments_lexer": "ipython3",
   "version": "3.7.4"
  }
 },
 "nbformat": 4,
 "nbformat_minor": 2
}
